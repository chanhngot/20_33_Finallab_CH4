{
 "cells": [
  {
   "cell_type": "code",
   "execution_count": 1,
   "metadata": {},
   "outputs": [
    {
     "name": "stdout",
     "output_type": "stream",
     "text": [
      "       aeon  aeon_mall  aeon_mall_bình_dương  aeonmall        ah        ai  \\\n",
      "0  0.003782   0.001891              0.001891  0.001891  0.003782  0.001891   \n",
      "\n",
      "     ai_lại    ai_ngờ    ai_nấy    alaska  ...        ốp        ồn     ồn_ào  \\\n",
      "0  0.001891  0.003782  0.001891  0.001891  ...  0.001891  0.003782  0.001891   \n",
      "\n",
      "         ổn        ớn        ớt    ủng_hộ  ủng_hộtrang_trí        ức        ừm  \n",
      "0  0.041604  0.003782  0.001891  0.001891         0.001891  0.001891  0.001891  \n",
      "\n",
      "[1 rows x 2630 columns]\n"
     ]
    }
   ],
   "source": [
    "with open(\"D:\\python\\FinalLab_Ch4\\gop.txt\", \"r\", encoding=\"utf-8\") as f:\n",
    "    D = f.read()\n",
    "D = D.split(\"\\n\")\n",
    "while \"\" in D:\n",
    "    D.remove(\"\")\n",
    "    \n",
    "#Reference source: https://www.learndatasci.com/glossary/tf-idf-term-frequency-inverse-document-frequency/\n",
    "\n",
    "# import required module\n",
    "from sklearn.feature_extraction.text import TfidfVectorizer\n",
    "import pandas as pd\n",
    "\n",
    "\n",
    "tr_idf_model  = TfidfVectorizer()\n",
    "tf_idf_vector = tr_idf_model.fit_transform(D)\n",
    "\n",
    "tf_idf_array = tf_idf_vector.toarray()\n",
    "# print(tf_idf_array)\n",
    "\n",
    "W = tr_idf_model.get_feature_names_out()\n",
    "# print(W)\n",
    "\n",
    "df_tf_idf = pd.DataFrame(tf_idf_array, columns = W)\n",
    "print(df_tf_idf)"
   ]
  }
 ],
 "metadata": {
  "kernelspec": {
   "display_name": "Python 3",
   "language": "python",
   "name": "python3"
  },
  "language_info": {
   "codemirror_mode": {
    "name": "ipython",
    "version": 3
   },
   "file_extension": ".py",
   "mimetype": "text/x-python",
   "name": "python",
   "nbconvert_exporter": "python",
   "pygments_lexer": "ipython3",
   "version": "3.11.5"
  }
 },
 "nbformat": 4,
 "nbformat_minor": 2
}

{
 "cells": [
  {
   "cell_type": "code",
   "execution_count": 5,
   "metadata": {},
   "outputs": [
    {
     "name": "stderr",
     "output_type": "stream",
     "text": [
      "C:\\Users\\DELL\\AppData\\Local\\Temp\\ipykernel_14840\\1375469387.py:30: MarkupResemblesLocatorWarning: The input looks more like a filename than markup. You may want to open this file and pass the filehandle into Beautiful Soup.\n",
      "  soup = BeautifulSoup(html, \"html.parser\")\n"
     ]
    }
   ],
   "source": [
    "import re\n",
    "import os\n",
    "from bs4 import BeautifulSoup\n",
    "from emot.emo_unicode import UNICODE_EMOJI # For emojis\n",
    "from emot.emo_unicode import EMOTICONS_EMO # For EMOTICONS\n",
    "import nltk\n",
    "from nltk.probability import FreqDist\n",
    "#Tạo source teencode để làm chuẩn hóa\n",
    "dict = {}\n",
    "file_path = 'D:/python/FinalLab_Ch4/teencode.txt'\n",
    "with open(file_path, 'r', encoding='utf-8') as file:\n",
    "    for line in file:\n",
    "        words = line.strip().split(' ')\n",
    "        if len(words) >= 2:\n",
    "            word, abbreviation = words[0], words[1]\n",
    "            dict[word.strip()] = abbreviation.strip()\n",
    "       \n",
    "f = open(\"D:/python/FinalLab_Ch4/vietnamese-stopwords.txt\", \"r\", encoding=\"utf-8\")\n",
    "#list stopwords\n",
    "List_stopWords=f.read().split(\"\\n\")\n",
    "source='D:/python/FinalLab_Ch4/Data2/'\n",
    "path=os.listdir(source)\n",
    "# \n",
    "for i in path:\n",
    "    label=i.split(\"'\")[0]\n",
    "    f=open('D:/python/FinalLab_Ch4/Data2/'+str(label), \"r\", encoding=\"utf-8\")\n",
    "    text=f.read()\n",
    "    #  Loại bỏ URL\n",
    "    def remove_tags(html):\n",
    "        soup = BeautifulSoup(html, \"html.parser\")\n",
    "        for data in soup([\"style\", \"script\"]):\n",
    "            data.decompose()\n",
    "        return \" \".join(soup.stripped_strings)\n",
    "    text_pre = remove_tags(text)\n",
    "    #  Chuyển biểu tượng cảm xúc thành văn bản\n",
    "    def converting_emojis(text):\n",
    "        for x in EMOTICONS_EMO:\n",
    "            text = text.replace(x, \"_\".join(EMOTICONS_EMO[x].replace(\",\", \"\").replace(\":\", \"\").split()))\n",
    "        for x in UNICODE_EMOJI:\n",
    "            text = text.replace(x, \"_\".join(UNICODE_EMOJI[x].replace(\",\", \"\").replace(\":\", \"\").split()))\n",
    "        return text\n",
    "    text_pre = converting_emojis(text_pre)\n",
    "    text_pre=text_pre.lower() # Chuyển văn bản thành chữ thường\n",
    "    text_pre=re.sub(r'[^\\w\\s\\.]','',text_pre) # Xóa dấu câu\n",
    "    text_pre = re.sub(\"\\d+\", \" \", text_pre) #  Xóa chữ số\n",
    "    text_pre=text_pre.replace(\"\\n\",\"\")  # Xóa lệnh dòng mới   \n",
    "    text_pre = \" \".join(text_pre for text_pre in text_pre.split() if text_pre not in List_stopWords)\n",
    "# chuẩn hóa\n",
    "    text=\"\"\n",
    "    words = text_pre.split()\n",
    "    for word in words:\n",
    "        w=word\n",
    "        w = re.sub(r'[^\\w\\s]','',w) #Removing Punctuation\n",
    "        if w.lower() in dict:\n",
    "            word=dict[w]\n",
    "        text=text + \" \" + word \n",
    "# Tách từ  \n",
    "    text=nltk.word_tokenize(text_pre)  \n",
    "# Ghi file vào thư mục\n",
    "    st=''\n",
    "    for i in text:\n",
    "        st+=str(i)+\" \"\n",
    "    filename=os.path.join(\"D:/python/FinalLab_Ch4/pre-processing\", str(label))    \n",
    "    with open(filename, 'w+',encoding='utf-8') as f:\n",
    "        f.write(st)\n",
    "\n",
    "\n",
    "\n"
   ]
  }
 ],
 "metadata": {
  "kernelspec": {
   "display_name": "Python 3",
   "language": "python",
   "name": "python3"
  },
  "language_info": {
   "codemirror_mode": {
    "name": "ipython",
    "version": 3
   },
   "file_extension": ".py",
   "mimetype": "text/x-python",
   "name": "python",
   "nbconvert_exporter": "python",
   "pygments_lexer": "ipython3",
   "version": "3.11.5"
  }
 },
 "nbformat": 4,
 "nbformat_minor": 2
}
